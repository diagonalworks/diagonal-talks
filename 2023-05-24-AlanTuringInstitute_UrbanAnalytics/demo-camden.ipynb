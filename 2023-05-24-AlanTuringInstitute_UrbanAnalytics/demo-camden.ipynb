{
 "cells": [
  {
   "cell_type": "code",
   "execution_count": null,
   "id": "a0ece570",
   "metadata": {},
   "outputs": [],
   "source": [
    "from IPython.display import display, HTML\n",
    "display(HTML(\"<style>.container { width:100% !important; }</style>\"))"
   ]
  },
  {
   "cell_type": "code",
   "execution_count": null,
   "id": "6a0bf38a",
   "metadata": {},
   "outputs": [],
   "source": [
    "# !pip install diagonal-b6\n",
    "# !pip install pandas\n",
    "# !pip install geopandas\n",
    "# !pip install shapely"
   ]
  },
  {
   "cell_type": "code",
   "execution_count": null,
   "id": "550ee317",
   "metadata": {},
   "outputs": [],
   "source": [
    "import diagonal_b6 as b6\n",
    "import pandas as pd\n",
    "\n",
    "import geopandas as gpd\n",
    "from shapely.geometry import shape\n",
    "from shapely.geometry.polygon import Polygon"
   ]
  },
  {
   "cell_type": "code",
   "execution_count": null,
   "id": "5bc45297",
   "metadata": {},
   "outputs": [],
   "source": [
    "# connect to the world\n",
    "grpc_address = \"localhost:8002\"\n",
    "w = b6.connect_insecure(grpc_address)"
   ]
  },
  {
   "cell_type": "code",
   "execution_count": null,
   "id": "5729cbf0",
   "metadata": {},
   "outputs": [],
   "source": [
    "# using a small area in Camden town, for demonstration\n",
    "CAMDEN_WKT = \"POLYGON ((-0.15258173047936907 51.54625419866031, -0.15258173047936907 51.53907407833145, -0.12912255595443867 51.53907407833145, -0.12912255595443867 51.54625419866031, -0.15258173047936907 51.54625419866031))\"\n",
    "camden_polygon = b6.wkt(CAMDEN_WKT)"
   ]
  },
  {
   "cell_type": "markdown",
   "id": "5d1514ac",
   "metadata": {},
   "source": [
    "Find benches\n",
    "\n",
    "Then find how many toilets are nearby each bench"
   ]
  },
  {
   "cell_type": "code",
   "execution_count": null,
   "id": "6dd208fe",
   "metadata": {},
   "outputs": [],
   "source": [
    "%%time\n",
    "\n",
    "benches_in_camden = b6.find_points( b6.intersecting(camden_polygon).and_(b6.tagged(\"#amenity\",\"bench\")) )\n",
    "\n",
    "for osmid, feature in w(benches_in_camden):\n",
    "    print( f\"{osmid}\\n{feature.all_tags()}\" )"
   ]
  },
  {
   "cell_type": "code",
   "execution_count": null,
   "id": "5114625c",
   "metadata": {
    "scrolled": true
   },
   "outputs": [],
   "source": [
    "%%time\n",
    "\n",
    "reachable_toilets = benches_in_camden.map( lambda b: b.reachable(\"walk\",\n",
    "                                                                500,\n",
    "                                                                b6.tagged(\"#amenity\",\"toilets\")) \\\n",
    "                                                    .count()\n",
    "                                        )\n",
    "\n",
    "df = pd.DataFrame([(b.value, c) for b,c in w(reachable_toilets)], \n",
    "                  columns=[\"bench\",\"toilet_count\"]) \\\n",
    "       .set_index(\"bench\")\n",
    "df.plot.hist();"
   ]
  },
  {
   "cell_type": "markdown",
   "id": "0ce22743",
   "metadata": {},
   "source": [
    "What if?\n",
    "\n",
    "What happens if every parking lot had a toilet?"
   ]
  },
  {
   "cell_type": "code",
   "execution_count": null,
   "id": "5ea213db",
   "metadata": {},
   "outputs": [],
   "source": [
    "%%time\n",
    "\n",
    "parkinglots = b6.find_areas(b6.tagged(\"#amenity\",\"parking\"))\n",
    "parkinglots_to_toilets = b6.add_tags( parkinglots.map( lambda parkinglot: b6.tag(\"#amenity\",\"toilets\") )\n",
    "                                    )\n",
    "\n",
    "improved_reachable_toilets = b6.with_change(parkinglots_to_toilets, lambda: reachable_toilets)\n",
    "\n",
    "df_improved = pd.DataFrame([(b.value, c) for b,c in w(improved_reachable_toilets)],\n",
    "                             columns =[\"bench\",\"toilet_count\"]) \\\n",
    "                .set_index(\"bench\")\n",
    "df_improved.plot.hist()"
   ]
  },
  {
   "cell_type": "code",
   "execution_count": null,
   "id": "f28b56e0",
   "metadata": {},
   "outputs": [],
   "source": [
    "change = df.merge(df_improved, right_index=True, left_index=True, suffixes=[\"\",\"_improved\"])\n",
    "change.plot.hist(alpha=0.5, bins=max(change[\"toilet_count_improved\"])+1)"
   ]
  },
  {
   "cell_type": "markdown",
   "id": "4b4e993d",
   "metadata": {},
   "source": [
    "Find benches with unobstructed views"
   ]
  },
  {
   "cell_type": "code",
   "execution_count": null,
   "id": "86fa8663",
   "metadata": {},
   "outputs": [],
   "source": [
    "# busywork for later\n",
    "df[\"url\"] = df.index.map(lambda x: f'<a href=\"https://www.openstreetmap.org/node/{x}\" rel=\"noopener noreferrer\" target=\"_blank\">{x}</a>')\n",
    "df = df.reindex(columns=[\"url\",\"toilet_count\"])"
   ]
  },
  {
   "cell_type": "code",
   "execution_count": null,
   "id": "17cc7ee6",
   "metadata": {},
   "outputs": [],
   "source": [
    "%%time\n",
    "\n",
    "benches_sightline_areas = benches_in_camden.map( lambda b: b.sightline(100).area() )\n",
    "\n",
    "df_sightline_areas = pd.DataFrame([(b.value, c) for b,c in w(benches_sightline_areas)],\n",
    "                            columns=[\"benches\",\"sightline_area\"]) \\\n",
    "                       .set_index(\"benches\")"
   ]
  },
  {
   "cell_type": "code",
   "execution_count": null,
   "id": "90c90ce0",
   "metadata": {},
   "outputs": [],
   "source": [
    "benches = df.merge(df_sightline_areas, right_index=True, left_index=True)"
   ]
  },
  {
   "cell_type": "code",
   "execution_count": null,
   "id": "b7ecf6b9",
   "metadata": {},
   "outputs": [],
   "source": [
    "benches.loc[benches[\"toilet_count\"]>3] \\\n",
    "       .sort_values(by = [\"sightline_area\",\"toilet_count\"], ascending=False) \\\n",
    "       .head(20) \\\n",
    "       .style"
   ]
  },
  {
   "cell_type": "markdown",
   "id": "186bfbd3",
   "metadata": {},
   "source": [
    "Sneak peak at the polygons"
   ]
  },
  {
   "cell_type": "code",
   "execution_count": null,
   "id": "10e79092",
   "metadata": {},
   "outputs": [],
   "source": [
    "%%time\n",
    "\n",
    "benches_sightline = benches_in_camden.map( lambda b: b6.to_geojson(b.sightline(100)) )\n",
    "df_sightline = pd.DataFrame([(b.value, shape(c[\"geometry\"])) for b,c in w(benches_sightline)],\n",
    "                            columns=[\"benches\",\"geometry\"]) \\\n",
    "                 .set_index(\"benches\")"
   ]
  },
  {
   "cell_type": "code",
   "execution_count": null,
   "id": "642ccebc",
   "metadata": {},
   "outputs": [],
   "source": [
    "benches = gpd.GeoDataFrame(benches.merge(df_sightline,\n",
    "                                         right_index=True,\n",
    "                                         left_index=True),\n",
    "                           geometry=\"geometry\")\n"
   ]
  },
  {
   "cell_type": "code",
   "execution_count": null,
   "id": "ed739b9b",
   "metadata": {},
   "outputs": [],
   "source": [
    "benches.style"
   ]
  },
  {
   "cell_type": "markdown",
   "id": "6a3fdde2",
   "metadata": {},
   "source": [
    "To see the sightline polygons in the map https://http://localhost:8001/\n",
    "\n",
    "Use `` ` `` to pop out the terminal then, using the appropriate OSM ID (the example uses 7744625385) run\n",
    "\n",
    "```\n",
    "find-feature /point/openstreetmap.org/node/7744625385 | sightline 100\n",
    "```"
   ]
  },
  {
   "cell_type": "code",
   "execution_count": null,
   "id": "ca761797",
   "metadata": {},
   "outputs": [],
   "source": []
  }
 ],
 "metadata": {
  "kernelspec": {
   "display_name": "Python 3 (ipykernel)",
   "language": "python",
   "name": "python3"
  },
  "language_info": {
   "codemirror_mode": {
    "name": "ipython",
    "version": 3
   },
   "file_extension": ".py",
   "mimetype": "text/x-python",
   "name": "python",
   "nbconvert_exporter": "python",
   "pygments_lexer": "ipython3",
   "version": "3.11.3"
  }
 },
 "nbformat": 4,
 "nbformat_minor": 5
}
